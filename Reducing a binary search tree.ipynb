{
 "cells": [
  {
   "cell_type": "markdown",
   "metadata": {},
   "source": [
    "## Problem\n",
    "\n",
    "Given the fact that the root of a binary search tree and 2 numbers (max and min), reduce the tree such that all the numbers in the new tree are between max and min (inclusive). The resulting tree should be a valid binary search tree."
   ]
  },
  {
   "cell_type": "code",
   "execution_count": null,
   "metadata": {},
   "outputs": [],
   "source": [
    "def trimbst(tree, maxVal, minVal):\n",
    "    if not tree:\n",
    "        return\n",
    "    \n",
    "    # if we come to a none node, we just return that\n",
    "    # now we use recursion (post order traversal)\n",
    "    # process left then right children, then finally the node\n",
    "    \n",
    "    tree.left = trimbst(tree.left, maxVal, minVal)\n",
    "    tree.right = trimbst(tree.right, maxVal, minVal)\n",
    "    \n",
    "    if minval <= tree.val <= maxVal:\n",
    "        return tree\n",
    "    \n",
    "    if tree.val < minVal:\n",
    "        return tree.right\n",
    "    \n",
    "    if tree.val > maxVal:\n",
    "        return tree.left"
   ]
  },
  {
   "cell_type": "markdown",
   "metadata": {},
   "source": [
    "At each node we return a reference based on the value which is then assigned to the parent's left or right child pointer. This depends on which node is the child of the parent. \n",
    "\n",
    "If the current node's value is less than the minimum, then we return the reference to the right subtree, then reference the left subtree. Otherwise, this process happens for the right subtree.\n",
    "\n",
    "This problem highlights whether the particular value is between the min or max. This is done recursively so it covers all the branches.\n",
    "\n",
    "Then, you know if the tree is less than the Min value, you discard the left tree and return the left. Vice versa for the max value.\n",
    "\n",
    "This entire problem is performed in O(n)."
   ]
  }
 ],
 "metadata": {
  "kernelspec": {
   "display_name": "Python 3",
   "language": "python",
   "name": "python3"
  },
  "language_info": {
   "codemirror_mode": {
    "name": "ipython",
    "version": 3
   },
   "file_extension": ".py",
   "mimetype": "text/x-python",
   "name": "python",
   "nbconvert_exporter": "python",
   "pygments_lexer": "ipython3",
   "version": "3.7.4"
  }
 },
 "nbformat": 4,
 "nbformat_minor": 2
}
